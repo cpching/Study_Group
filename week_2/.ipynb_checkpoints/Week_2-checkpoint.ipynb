{
 "cells": [
  {
   "cell_type": "markdown",
   "metadata": {},
   "source": [
    "Coffee 是一組 list <br />\n",
    "有不同的咖啡品項"
   ]
  },
  {
   "cell_type": "code",
   "execution_count": 137,
   "metadata": {},
   "outputs": [],
   "source": [
    "Coffee = ['Espresso', 'Macchiatto', 'Latte', 'Cappuccino', 'Mocha', 'Americano']"
   ]
  },
  {
   "cell_type": "markdown",
   "metadata": {},
   "source": [
    "下面是多個 list <br />\n",
    "代表不同咖啡的成分，用底線(_)區分"
   ]
  },
  {
   "cell_type": "code",
   "execution_count": 163,
   "metadata": {},
   "outputs": [],
   "source": [
    "Espresso_ = ['espresso']\n",
    "Macchiatto_ = ['milk foam', 'espresso']\n",
    "Latte_ = ['milk foam', 'steamed milk', 'espresso']\n",
    "Cappuccino_ = ['milk foam', 'steamed milk', 'espresso']\n",
    "Mocha_ = ['whipped cream', 'steamed milk', 'chocolate syrup', 'espresso']\n",
    "Americano_ = ['water', 'espresso']"
   ]
  },
  {
   "cell_type": "markdown",
   "metadata": {},
   "source": [
    "coffee 是咖啡與它的成份的 dict<br />\n",
    "它的 key 是string, value 是 list <br />\n",
    "dict 的 key 不能是 list"
   ]
  },
  {
   "cell_type": "code",
   "execution_count": 164,
   "metadata": {},
   "outputs": [],
   "source": [
    "coffee = {\n",
    "    Coffee[0]: Espresso_,\n",
    "    Coffee[1]: Macchiatto_,\n",
    "    Coffee[2]: Latte_,\n",
    "    Coffee[3]: Cappuccino_,\n",
    "    Coffee[-1]: Americano_\n",
    "}"
   ]
  },
  {
   "cell_type": "markdown",
   "metadata": {},
   "source": [
    "# Condition\n",
    "冒號與縮排 <br />\n",
    "in"
   ]
  },
  {
   "cell_type": "code",
   "execution_count": null,
   "metadata": {},
   "outputs": [],
   "source": [
    "if Coffee[4] in coffee:\n",
    "    print(\"We have \" + Coffee[4] + \"!\")\n",
    "    \n",
    "elif Coffee[0] in coffee:\n",
    "    print(\"We have \" + Coffee[0] + \"!\")\n",
    "    \n",
    "else:\n",
    "    print(\"We don't have any cups of coffee\")"
   ]
  },
  {
   "cell_type": "markdown",
   "metadata": {},
   "source": [
    "多個比較"
   ]
  },
  {
   "cell_type": "code",
   "execution_count": null,
   "metadata": {},
   "outputs": [],
   "source": [
    "if 5 <= len(coffee) < 10:\n",
    "    print(\"We have lots of coffee\")"
   ]
  },
  {
   "cell_type": "markdown",
   "metadata": {},
   "source": [
    "# Loop"
   ]
  },
  {
   "cell_type": "markdown",
   "metadata": {},
   "source": [
    "while <br />\n",
    "else 檢查中斷"
   ]
  },
  {
   "cell_type": "code",
   "execution_count": null,
   "metadata": {},
   "outputs": [],
   "source": [
    "x = 0\n",
    "while x < len(coffee):\n",
    "    if 'Mocha' in coffee:\n",
    "        break\n",
    "        \n",
    "    x += 1\n",
    "    \n",
    "else:\n",
    "    print(\"Mocha is not in coffee\")"
   ]
  },
  {
   "cell_type": "markdown",
   "metadata": {},
   "source": [
    "for <br />\n",
    "in\n",
    "else 檢查中斷"
   ]
  },
  {
   "cell_type": "code",
   "execution_count": null,
   "metadata": {},
   "outputs": [],
   "source": [
    "for Type, component in coffee.items():\n",
    "    print('the component of ', Type, 'is ', component, '.')"
   ]
  },
  {
   "cell_type": "code",
   "execution_count": null,
   "metadata": {},
   "outputs": [],
   "source": [
    "for Type, component in coffee.items():\n",
    "    print('the component of ', Type, 'is ', end='')\n",
    " \n",
    "    for x in component:\n",
    "        print(x, end=', ')\n",
    "        \n",
    "    print('')"
   ]
  },
  {
   "cell_type": "markdown",
   "metadata": {},
   "source": [
    "else 檢查中斷類似在迴圈裡跟 break 同一層的地方立 flag"
   ]
  },
  {
   "cell_type": "code",
   "execution_count": null,
   "metadata": {},
   "outputs": [],
   "source": [
    "flag = False\n",
    "\n",
    "for Type in coffee.keys():\n",
    "    flag = True\n",
    "    print(\"This shop has some coffee!\")\n",
    "    break\n",
    "    \n",
    "if not flag:\n",
    "    print(\"This shop doesn't have any coffee!\")"
   ]
  },
  {
   "cell_type": "code",
   "execution_count": null,
   "metadata": {},
   "outputs": [],
   "source": [
    "for Type in coffee.keys():\n",
    "    print(\"This shop has some coffee!\")\n",
    "    break\n",
    "    \n",
    "else:\n",
    "    print(\"This shop doesn't have any coffee!\")"
   ]
  },
  {
   "cell_type": "markdown",
   "metadata": {},
   "source": [
    "# zip"
   ]
  },
  {
   "cell_type": "code",
   "execution_count": null,
   "metadata": {},
   "outputs": [],
   "source": [
    "days = ['Monday', 'Tuesday', 'Wednesday']\n",
    "\n",
    "for day, coffee in zip(days, Coffee):\n",
    "    print(day, end='')\n",
    "    print(': ', end='')\n",
    "    print(coffee)"
   ]
  },
  {
   "cell_type": "markdown",
   "metadata": {},
   "source": [
    "雖然看起來像 tuple 但其實是可迭代的合併值"
   ]
  },
  {
   "cell_type": "code",
   "execution_count": null,
   "metadata": {},
   "outputs": [],
   "source": [
    "list(zip(days, Coffee))"
   ]
  },
  {
   "cell_type": "code",
   "execution_count": null,
   "metadata": {},
   "outputs": [],
   "source": [
    "dict(zip(days, Coffee))"
   ]
  },
  {
   "cell_type": "markdown",
   "metadata": {},
   "source": [
    "# range\n",
    "range(start, stop, step) <br>\n",
    "stop 是必要之值 <br>\n",
    "start 預設為0<br>\n",
    "step 預設為1"
   ]
  },
  {
   "cell_type": "code",
   "execution_count": null,
   "metadata": {},
   "outputs": [],
   "source": [
    "for x in range(1, -1, -1):\n",
    "    print(x)"
   ]
  },
  {
   "cell_type": "code",
   "execution_count": null,
   "metadata": {},
   "outputs": [],
   "source": [
    "for x in range(len(coffee[Coffee[2]]), -1, -1):\n",
    "    print(x)"
   ]
  },
  {
   "cell_type": "code",
   "execution_count": 2,
   "metadata": {},
   "outputs": [
    {
     "data": {
      "text/plain": [
       "[1, 2, 3, 4, 5]"
      ]
     },
     "execution_count": 2,
     "metadata": {},
     "output_type": "execute_result"
    }
   ],
   "source": [
    "list(range(1, 6))"
   ]
  },
  {
   "cell_type": "code",
   "execution_count": null,
   "metadata": {},
   "outputs": [],
   "source": []
  },
  {
   "cell_type": "code",
   "execution_count": null,
   "metadata": {},
   "outputs": [],
   "source": []
  },
  {
   "cell_type": "code",
   "execution_count": null,
   "metadata": {},
   "outputs": [],
   "source": []
  },
  {
   "cell_type": "code",
   "execution_count": null,
   "metadata": {},
   "outputs": [],
   "source": []
  }
 ],
 "metadata": {
  "kernelspec": {
   "display_name": "Python 3",
   "language": "python",
   "name": "python3"
  },
  "language_info": {
   "codemirror_mode": {
    "name": "ipython",
    "version": 3
   },
   "file_extension": ".py",
   "mimetype": "text/x-python",
   "name": "python",
   "nbconvert_exporter": "python",
   "pygments_lexer": "ipython3",
   "version": "3.7.4"
  }
 },
 "nbformat": 4,
 "nbformat_minor": 2
}
