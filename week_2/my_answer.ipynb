{
 "cells": [
  {
   "cell_type": "code",
   "execution_count": null,
   "metadata": {},
   "outputs": [],
   "source": [
    "M=input()\n",
    "E=input()\n",
    "\n",
    "Math=set(M.split(','))\n",
    "English=set(E.split(','))\n",
    "\n",
    "M = sorted(list(Math - English))\n",
    "x = ','.join(M)\n",
    "print(x)\n",
    "\n",
    "E = sorted(list(English - Math))\n",
    "x = ','.join(E)\n",
    "print(x)\n",
    "\n",
    "M_E = sorted(list(Math & English))\n",
    "x = ','.join(M_E)\n",
    "print(x)\n",
    "\n",
    "print(len(list(Math | English)))\n"
   ]
  },
  {
   "cell_type": "code",
   "execution_count": null,
   "metadata": {},
   "outputs": [],
   "source": []
  }
 ],
 "metadata": {
  "kernelspec": {
   "display_name": "Python 3",
   "language": "python",
   "name": "python3"
  },
  "language_info": {
   "codemirror_mode": {
    "name": "ipython",
    "version": 3
   },
   "file_extension": ".py",
   "mimetype": "text/x-python",
   "name": "python",
   "nbconvert_exporter": "python",
   "pygments_lexer": "ipython3",
   "version": "3.7.4"
  }
 },
 "nbformat": 4,
 "nbformat_minor": 2
}
